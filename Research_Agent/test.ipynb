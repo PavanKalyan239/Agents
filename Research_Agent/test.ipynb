{
 "cells": [
  {
   "cell_type": "code",
   "execution_count": null,
   "metadata": {},
   "outputs": [],
   "source": []
  },
  {
   "cell_type": "code",
   "execution_count": 16,
   "metadata": {},
   "outputs": [
    {
     "name": "stdout",
     "output_type": "stream",
     "text": [
      "2984\n",
      "Page: Generative pre-trained transformer\n",
      "Summary: A generative pre-trained transformer (GPT) is a type of large language model (LLM) and a prominent framework for generative artificial intelligence. It is an artificial neural network that is used in natural language processing by machines. It is based on the transformer deep learning architecture, pre-trained on large data sets of unlabeled text, and able to generate novel human-like content. As of 2023, most LLMs had these characteristics and are sometimes referred to broadly as GPTs.\n",
      "The first GPT was introduced in 2018 by OpenAI. OpenAI has released significant GPT foundation models that have been sequentially numbered, to comprise its \"GPT-n\" series. Each of these was significantly more capable than the previous, due to increased size (number of trainable parameters) and training. The most recent of these, GPT-4o, was released in May 2024. Such models have been the basis for their more task-specific GPT systems, including models fine-tuned for instruction following—which in turn power the ChatGPT chatbot service.\n",
      "The term \"GPT\" is also used in the names and descriptions of such models developed by others. For example, other GPT foundation models include a series of models created by EleutherAI, and seven models created by Cerebras in 2023. Companies in different industries have developed task-specific GPTs in their respective fields, such as Salesforce's \"EinsteinGPT\" (for CRM) and Bloomberg's \"BloombergGPT\" (for finance).\n",
      "\n",
      "Page: Transformer (deep learning architecture)\n",
      "Summary: The transformer is a deep learning architecture that was developed by researchers at Google and is based on the multi-head attention mechanism, which was proposed in the 2017 paper \"Attention Is All You Need\". Text is converted to numerical representations called tokens, and each token is converted into a vector via lookup from a word embedding table. At each layer, each token is then contextualized within the scope of the context window with other (unmasked) tokens via a parallel multi-head attention mechanism, allowing the signal for key tokens to be amplified and less important tokens to be diminished.\n",
      "Transformers have the advantage of having no recurrent units, therefore requiring less training time than earlier recurrent neural architectures (RNNs) such as long short-term memory (LSTM). Later variations have been widely adopted for training large language models (LLM) on large (language) datasets.\n",
      "\n",
      "Transformers were first developed as an improvement over previous architectures for machine translation, but have found many applications since. They are used in large-scale natural language processing, computer vision (vision transformers), reinforcement learning, audio, multimodal learning, robotics, and even playing chess. It has also led to the development of pre-trained systems, such as generative pre-trained transformers (GPTs) and BERT (bidirectional encoder representations from transformers).\n",
      "\n",
      "\n"
     ]
    }
   ],
   "source": [
    "from langchain_community.tools.wikipedia.tool import WikipediaQueryRun\n",
    "from langchain_community.utilities.wikipedia import WikipediaAPIWrapper\n",
    "\n",
    "wiki = WikipediaQueryRun(api_wrapper=WikipediaAPIWrapper(top_k_results=2))\n",
    "result = wiki.run(\"Transformer models in AI\")\n",
    "print(len(result))\n",
    "print(result)\n"
   ]
  },
  {
   "cell_type": "code",
   "execution_count": 24,
   "metadata": {},
   "outputs": [
    {
     "name": "stdout",
     "output_type": "stream",
     "text": [
      "\n",
      "🔹 Result 1\n",
      "Title: Generative pre-trained transformer\n",
      "URL: https://en.wikipedia.org/wiki/Generative_pre-trained_transformer\n",
      "Summary: A generative pre-trained transformer (GPT) is a type of large language model (LLM) and a prominent framework for generative artificial intelligence. It is an artificial neural network that is used in natural language processing by machines. It is based on the transformer deep learning architecture, pre-trained on large data sets of unlabeled text, and able to generate novel human-like content. As of 2023, most LLMs had these characteristics and are sometimes referred to broadly as GPTs.\n",
      "The first GPT was introduced in 2018 by OpenAI. OpenAI has released significant GPT foundation models that have been sequentially numbered, to comprise its \"GPT-n\" series. Each of these was significantly more capable than the previous, due to increased size (number of trainable parameters) and training. The most recent of these, GPT-4o, was released in May 2024. Such models have been the basis for their more task-specific GPT systems, including models fine-tuned for instruction following—which in turn power the ChatGPT chatbot service.\n",
      "The term \"GPT\" is also used in the names and descriptions of such models developed by others. For example, other GPT foundation models include a series of models created by EleutherAI, and seven models created by Cerebras in 2023. Companies in different industries have developed task-specific GPTs in their respective fields, such as Salesforce's \"EinsteinGPT\" (for CRM) and Bloomberg's \"BloombergGPT\" (for finance).\n",
      "\n",
      "\n",
      "== History ==\n",
      "\n",
      "\n",
      "=== Initial developments ===\n",
      "Generative pretraining (GP) was a long-established concept in machine learning applications. It was originally used as a form of semi-supervised learning, as the model is trained first on an unlabelled dataset (pretraining step) by learning to generate datapoints in the dataset, and then it is trained to classify a labelled dataset. \n",
      "There were three main types of early GP. The hidden Markov models learn a generative model of sequences for downstream applications. For example, in speech recognition, a trained HMM infers the most likely hidden sequence for a speech signal, and the hidden sequence is taken as the phonemes of the speech signal. These were developed in the 1970s and became widely applied in speech recognition in the 1980s.\n",
      "The compressors learn to compress data such as images and textual sequences, and the compressed data serves as a good representation for downstream applications such as facial recognition. The autoencoders similarly learn a latent representation of data for later downstream applications such as speech recognition. The connection between autoencoders and algorithmic compressors was noted in 1993.\n",
      "\n",
      "During the 2010s, the problem of machine translation was solved by recurrent neural networks, with attention mechanism added. This was optimized into the transformer architecture, published by Google researchers in Attention Is All You Need (2017). That development led to the emergence of large language models such as BERT (2018) which was a pre-trained transformer (PT) but not designed to be generative (BERT was an \"encoder-only\" model). Also in 2018, OpenAI published Improving Language Understanding by Generative Pre-Training, which introduced GPT-1, the first in its GPT series.\n",
      "Previously in 2017, some of the authors who would later work on GPT-1 worked on generative pre-training of language with LSTM, which resulted in a model that could represent text with vectors that could easily be fine-tuned for downstream applications.\n",
      "Prior to transformer-based architectures, the best-performing neural NLP (natural language processing) models commonly employed supervised learning from large amounts of manually-labeled data. The reliance on supervised learning limited their use on datasets that were not well-annotated, and also made it prohibitively expensive and time-consuming to train extremely large language models.\n",
      "The semi-supervised approach OpenAI employed to make a large-scale generative system—and was first to do with a transformer...\n",
      "\n",
      "🔹 Result 2\n",
      "Title: Transformer (deep learning architecture)\n",
      "URL: https://en.wikipedia.org/wiki/Transformer_(deep_learning_architecture)\n",
      "Summary: The transformer is a deep learning architecture that was developed by researchers at Google and is based on the multi-head attention mechanism, which was proposed in the 2017 paper \"Attention Is All You Need\". Text is converted to numerical representations called tokens, and each token is converted into a vector via lookup from a word embedding table. At each layer, each token is then contextualized within the scope of the context window with other (unmasked) tokens via a parallel multi-head attention mechanism, allowing the signal for key tokens to be amplified and less important tokens to be diminished.\n",
      "Transformers have the advantage of having no recurrent units, therefore requiring less training time than earlier recurrent neural architectures (RNNs) such as long short-term memory (LSTM). Later variations have been widely adopted for training large language models (LLM) on large (language) datasets.\n",
      "\n",
      "Transformers were first developed as an improvement over previous architectures for machine translation, but have found many applications since. They are used in large-scale natural language processing, computer vision (vision transformers), reinforcement learning, audio, multimodal learning, robotics, and even playing chess. It has also led to the development of pre-trained systems, such as generative pre-trained transformers (GPTs) and BERT (bidirectional encoder representations from transformers).\n",
      "\n",
      "\n",
      "== History ==\n",
      "\n",
      "\n",
      "=== Predecessors ===\n",
      "For many years, sequence modelling and generation was done by using plain recurrent neural networks (RNNs). A well-cited early example was the Elman network (1990). In theory, the information from one token can propagate arbitrarily far down the sequence, but in practice the vanishing-gradient problem leaves the model's state at the end of a long sentence without precise, extractable information about preceding tokens.\n",
      "A key breakthrough was LSTM (1995), a RNN which used various innovations to overcome the vanishing gradient problem, allowing efficient learning of long-sequence modelling. One key innovation was the use of an attention mechanism which used neurons that multiply the outputs of other neurons, so-called multiplicative units. Neural networks using multiplicative units were later called sigma-pi networks or higher-order networks. LSTM became the standard architecture for long sequence modelling until the 2017 publication of Transformers.\n",
      "However, LSTM still used sequential processing, like most other RNNs. Specifically, RNNs operate one token at a time from first to last; they cannot operate in parallel over all tokens in a sequence. \n",
      "Modern Transformers overcome this problem, but unlike RNNs, they require computation time that is quadratic in the size of the context window. The linearly scaling fast weight controller (1992) learns to compute a weight matrix for further processing depending on the input. One of its two networks has \"fast weights\" or \"dynamic links\" (1981). A slow neural network learns by gradient descent to generate keys and values for computing the weight changes of the fast neural network which computes answers to queries. This was later shown to be equivalent to the unnormalized linear Transformer.\n",
      "\n",
      "\n",
      "=== Attention with seq2seq ===\n",
      "\n",
      "The idea of encoder-decoder sequence transduction had been developed in the early 2010s (see previous papers). The papers most commonly cited as the originators that produced seq2seq are two concurrently published papers from 2014.\n",
      "A 380M-parameter model for machine translation uses two long short-term memories (LSTM). Its architecture consists of two parts. The encoder is an LSTM that takes in a sequence of tokens and turns it into a vector. The decoder is another LSTM that converts the vector into a sequence of tokens. Similarly, another 130M-parameter model used gated recurrent units (GRU) instead of LSTM. Later research showed that GRUs are neither better nor worse than LSTMs for seq2seq.\n",
      "These early seq2seq models had no attentio...\n"
     ]
    }
   ],
   "source": [
    "from langchain_community.tools.wikipedia.tool import WikipediaQueryRun\n",
    "from langchain_community.utilities.wikipedia import WikipediaAPIWrapper\n",
    "\n",
    "def search_wikipedia(topic: str, top_k: int = 2):\n",
    "    \"\"\"\n",
    "    Searches Wikipedia using LangChain's wrapper and returns structured results.\n",
    "    \n",
    "    Parameters:\n",
    "        topic (str): The topic to search for.\n",
    "        top_k (int): Number of top results to return.\n",
    "    \n",
    "    Returns:\n",
    "        List[dict]: Each result contains title, summary (page_content), and URL.\n",
    "    \"\"\"\n",
    "    # Create API wrapper with limited results\n",
    "    wiki_api = WikipediaAPIWrapper(top_k_results=top_k)\n",
    "    wiki_tool = WikipediaQueryRun(api_wrapper=wiki_api)\n",
    "\n",
    "    # Load raw results as document objects\n",
    "    docs = wiki_api.load(topic)\n",
    "\n",
    "    # Structure the results\n",
    "    structured_results = []\n",
    "    for doc in docs:\n",
    "        result = {\n",
    "            \"title\": doc.metadata.get(\"title\", \"Unknown Title\"),\n",
    "            \"summary\": doc.page_content,\n",
    "            \"url\": f\"https://en.wikipedia.org/wiki/{doc.metadata.get('title', '').replace(' ', '_')}\"\n",
    "        }\n",
    "        structured_results.append(result)\n",
    "\n",
    "    return structured_results\n",
    "\n",
    "\n",
    "results = search_wikipedia(\"Transformer models in AI\", top_k=2)\n",
    "\n",
    "for i, res in enumerate(results, 1):\n",
    "    print(f\"\\n🔹 Result {i}\")\n",
    "    print(\"Title:\", res[\"title\"])\n",
    "    print(\"URL:\", res[\"url\"])\n",
    "    print(\"Summary:\", res[\"summary\"]+ \"...\")\n"
   ]
  },
  {
   "cell_type": "code",
   "execution_count": 26,
   "metadata": {},
   "outputs": [
    {
     "name": "stdout",
     "output_type": "stream",
     "text": [
      "\n",
      "🔹 Result 1\n",
      "Title: Transformer (deep learning architecture) - Wikipedia\n",
      "URL: https://en.wikipedia.org/wiki/Transformer_(deep_learning_architecture)\n",
      "Summary: A transformer is a deep learning architecture that was developed by researchers at Google and is based on the multi-head attention mechanism, which was proposed in the 2017 paper \"Attention Is All You Need\".[1] Text is converted to numerical representations called tokens, and each token is converted into a vector via lookup from a word embedding table.[1] At each layer, each token is then contextualized within the scope of the context window with other (unmasked) tokens via a parallel multi-head attention mechanism, allowing the signal for key tokens to be amplified and less important tokens to be diminished. Many large language models, since they do not need to predict a whole new sequence from an input sequence, only use the encoder or decoder of the original transformer architecture....\n",
      "\n",
      "🔹 Result 2\n",
      "Title: What is a Transformer Model? - IBM\n",
      "URL: https://www.ibm.com/think/topics/transformer-model\n",
      "Summary: Broadly speaking, a transformer model’s attention layers assess and use the specific context of each part of a data sequence in 4 steps: Transformer models such as relational databases generate query, key and value vectors for each part of a data sequence, and use them to compute attention weights through a series of matrix multiplications. To generate query and key vectors to feed into the transformer’s attention layers, the model needs an initial, contextless vector embedding for each token. With positional encoding, the model adds a vector of values to each token’s embedding, derived from its relative position, before the input enters the attention mechanism. These query, key and value vectors are generated by passing the original token embeddings through each of three parallel feedforward neural network layers that precede the first attention layer....\n"
     ]
    }
   ],
   "source": [
    "from tavily import TavilyClient\n",
    "import os\n",
    "\n",
    "def search_tavily(query: str, max_results: int = 2):\n",
    "    \"\"\"\n",
    "    Searches the web using Tavily API and returns structured results.\n",
    "\n",
    "    Parameters:\n",
    "        query (str): The search query string.\n",
    "        max_results (int): Maximum number of search results to return.\n",
    "\n",
    "    Returns:\n",
    "        List[dict]: Each result contains title, content, and url.\n",
    "    \"\"\"\n",
    "    # Get API key from environment\n",
    "    TAVILY_API_KEY = os.getenv(\"TAVILY_API_KEY\")\n",
    "    \n",
    "    # Handle case where API key is not set\n",
    "    if not TAVILY_API_KEY:\n",
    "        raise ValueError(\"TAVILY_API_KEY not found in environment variables.\")\n",
    "    \n",
    "    # Initialize Tavily client\n",
    "    client = TavilyClient(api_key=TAVILY_API_KEY)\n",
    "    \n",
    "    # Perform the search\n",
    "    response = client.search(query=query, max_results=max_results)\n",
    "    \n",
    "    # Structure the results\n",
    "    structured_results = []\n",
    "    for result in response.get(\"results\", []):\n",
    "        structured_results.append({\n",
    "            \"title\": result.get(\"title\", \"No Title\"),\n",
    "            \"url\": result.get(\"url\", \"\"),\n",
    "            \"content\": result.get(\"content\", \"\")\n",
    "        })\n",
    "    \n",
    "    return structured_results\n",
    "\n",
    "\n",
    "results = search_tavily(\"Transformer models in AI\", max_results=2)\n",
    "\n",
    "for i, res in enumerate(results, 1):\n",
    "    print(f\"\\n🔹 Result {i}\")\n",
    "    print(\"Title:\", res[\"title\"])\n",
    "    print(\"URL:\", res[\"url\"])\n",
    "    print(\"Summary:\", res[\"content\"]+ \"...\")"
   ]
  },
  {
   "cell_type": "code",
   "execution_count": 1,
   "metadata": {},
   "outputs": [
    {
     "name": "stdout",
     "output_type": "stream",
     "text": [
      "Client ID and Client Secret found -- Initializing -- AzureChatOpenAI\n"
     ]
    },
    {
     "data": {
      "image/png": "[encoded data removed]",
      "text/plain": [
       "<IPython.core.display.Image object>"
      ]
     },
     "metadata": {},
     "output_type": "display_data"
    }
   ],
   "source": [
    "from research_Agent import graph\n",
    "from IPython.display import display, Image\n",
    "\n",
    "display(Image(graph.get_graph().draw_mermaid_png()))"
   ]
  },
  {
   "cell_type": "code",
   "execution_count": null,
   "metadata": {},
   "outputs": [],
   "source": []
  }
 ],
 "metadata": {
  "kernelspec": {
   "display_name": "langGraph",
   "language": "python",
   "name": "python3"
  },
  "language_info": {
   "codemirror_mode": {
    "name": "ipython",
    "version": 3
   },
   "file_extension": ".py",
   "mimetype": "text/x-python",
   "name": "python",
   "nbconvert_exporter": "python",
   "pygments_lexer": "ipython3",
   "version": "3.12.9"
  }
 },
 "nbformat": 4,
 "nbformat_minor": 2
}
